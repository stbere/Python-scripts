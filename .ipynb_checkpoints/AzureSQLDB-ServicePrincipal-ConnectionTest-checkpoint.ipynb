{
 "cells": [
  {
   "cell_type": "code",
   "execution_count": null,
   "id": "afe56435",
   "metadata": {},
   "outputs": [],
   "source": [
    "# Test Service Principle connection for Azure SQL DB\n",
    "# https://learn.microsoft.com/en-us/azure/app-service/tutorial-connect-msi-azure-database?tabs=sqldatabase-sc%2Cuserassigned-sc%2Cpython%2Cdotnet-mysql-mi%2Cdotnet-postgres-mi%2Cmacosclient"
   ]
  },
  {
   "cell_type": "code",
   "execution_count": null,
   "id": "fb1e4f1a",
   "metadata": {},
   "outputs": [],
   "source": [
    "import os;\n",
    "import pyodbc\n",
    "\n",
    "server = os.getenv('AZURE_SQL_SERVER')\n",
    "port = os.getenv('AZURE_SQL_PORT')\n",
    "database = os.getenv('AZURE_SQL_DATABASE')\n",
    "authentication = os.getenv('AZURE_SQL_AUTHENTICATION')\n",
    "\n",
    "# Uncomment the following lines according to the authentication type.\n",
    "# For system-assigned managed identity.\n",
    "# connString = f'Driver={{ODBC Driver 18 for SQL Server}};Server={server},{port};Database={database};Authentication={authentication};Encrypt=yes;'\n",
    "\n",
    "# For user-assigned managed identity.\n",
    "# user = os.getenv('AZURE_SQL_USER')\n",
    "# connString = f'Driver={{ODBC Driver 18 for SQL Server}};Server={server},{port};Database={database};UID={user};Authentication={authentication};Encrypt=yes;'\n",
    "\n",
    "conn = pyodbc.connect(connString)"
   ]
  },
  {
   "cell_type": "code",
   "execution_count": null,
   "id": "66ace1b8",
   "metadata": {},
   "outputs": [],
   "source": []
  },
  {
   "cell_type": "code",
   "execution_count": null,
   "id": "7e52d679",
   "metadata": {},
   "outputs": [],
   "source": []
  }
 ],
 "metadata": {
  "kernelspec": {
   "display_name": "Python 3 (ipykernel)",
   "language": "python",
   "name": "python3"
  },
  "language_info": {
   "codemirror_mode": {
    "name": "ipython",
    "version": 3
   },
   "file_extension": ".py",
   "mimetype": "text/x-python",
   "name": "python",
   "nbconvert_exporter": "python",
   "pygments_lexer": "ipython3",
   "version": "3.9.13"
  }
 },
 "nbformat": 4,
 "nbformat_minor": 5
}
