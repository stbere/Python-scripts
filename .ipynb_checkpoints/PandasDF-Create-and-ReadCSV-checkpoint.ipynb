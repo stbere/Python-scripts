{
 "cells": [
  {
   "cell_type": "code",
   "execution_count": 1,
   "id": "66898e32",
   "metadata": {},
   "outputs": [],
   "source": [
    "import pandas as pd"
   ]
  },
  {
   "cell_type": "code",
   "execution_count": 2,
   "id": "366884ca",
   "metadata": {},
   "outputs": [],
   "source": [
    "# Specify the path to your Excel file\n",
    "file_path = r'C:\\Users\\MyUserID\\Python-scripts\\zillowhomevalues_tulsacounty.csv'"
   ]
  },
  {
   "cell_type": "code",
   "execution_count": 3,
   "id": "57b260b2",
   "metadata": {},
   "outputs": [],
   "source": [
    "# Read the csv file into a pandas dataframe\n",
    "# change pd.read_csv to pd.read_excel depending on your file ext\n",
    "df = pd.read_csv(file_path)"
   ]
  },
  {
   "cell_type": "code",
   "execution_count": 4,
   "id": "cfbb9b01",
   "metadata": {},
   "outputs": [
    {
     "name": "stdout",
     "output_type": "stream",
     "text": [
      "   RegionID  SizeRank    RegionName RegionType StateName State      Metro  \\\n",
      "0   20859.0      50.0         Tulsa       city        OK    OK  Tulsa, OK   \n",
      "1   37596.0     319.0  Broken Arrow       city        OK    OK  Tulsa, OK   \n",
      "2   10834.0    1176.0     Claremore       city        OK    OK  Tulsa, OK   \n",
      "3   40207.0    1334.0        Owasso       city        OK    OK  Tulsa, OK   \n",
      "4   16899.0    1395.0  Bartlesville       city        OK    OK  Tulsa, OK   \n",
      "\n",
      "       CountyName     1/31/2000     2/29/2000  ...     5/31/2022  \\\n",
      "0    Tulsa County   $75,173.10    $74,895.20   ...  $173,162.12    \n",
      "1  Wagoner County  $119,608.60   $119,273.43   ...  $243,725.73    \n",
      "2   Rogers County   $98,698.46    $98,857.94   ...  $223,035.10    \n",
      "3    Tulsa County  $136,822.00   $136,548.01   ...  $270,843.03    \n",
      "4    Osage County   $60,386.76    $60,445.58   ...  $147,570.70    \n",
      "\n",
      "      6/30/2022     7/31/2022     8/31/2022     9/30/2022    10/31/2022  \\\n",
      "0  $175,038.87   $176,847.66   $177,963.30   $178,553.35   $179,207.44    \n",
      "1  $246,873.22   $249,450.62   $250,904.26   $251,292.19   $251,634.90    \n",
      "2  $225,944.42   $228,056.45   $229,576.65   $230,390.95   $230,778.21    \n",
      "3  $274,227.06   $276,812.74   $278,480.91   $279,326.77   $279,967.89    \n",
      "4  $149,264.45   $150,534.36   $151,138.99   $151,390.70   $151,960.50    \n",
      "\n",
      "     11/30/2022    12/31/2022     1/31/2023     2/28/2023  \n",
      "0  $180,206.19   $180,686.23   $181,426.94   $182,100.73   \n",
      "1  $252,216.27   $252,626.89   $252,856.44   $253,154.90   \n",
      "2  $231,100.57   $230,989.22   $230,569.88   $231,057.35   \n",
      "3  $280,661.71   $281,143.22   $281,059.58   $280,985.00   \n",
      "4  $152,916.33   $153,867.58   $154,727.52   $155,654.02   \n",
      "\n",
      "[5 rows x 286 columns]\n"
     ]
    }
   ],
   "source": [
    "# Now you can work with the dataframe as needed\n",
    "print(df.head())"
   ]
  },
  {
   "cell_type": "code",
   "execution_count": null,
   "id": "b9a3196f",
   "metadata": {},
   "outputs": [],
   "source": []
  },
  {
   "cell_type": "code",
   "execution_count": null,
   "id": "b99645d3",
   "metadata": {},
   "outputs": [],
   "source": []
  }
 ],
 "metadata": {
  "kernelspec": {
   "display_name": "Python 3 (ipykernel)",
   "language": "python",
   "name": "python3"
  },
  "language_info": {
   "codemirror_mode": {
    "name": "ipython",
    "version": 3
   },
   "file_extension": ".py",
   "mimetype": "text/x-python",
   "name": "python",
   "nbconvert_exporter": "python",
   "pygments_lexer": "ipython3",
   "version": "3.9.13"
  }
 },
 "nbformat": 4,
 "nbformat_minor": 5
}
