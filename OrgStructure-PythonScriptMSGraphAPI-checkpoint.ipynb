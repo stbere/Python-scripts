{
 "cells": [
  {
   "cell_type": "code",
   "execution_count": 5,
   "id": "07fd47d5",
   "metadata": {},
   "outputs": [],
   "source": [
    "import csv\n",
    "import requests"
   ]
  },
  {
   "cell_type": "code",
   "execution_count": 6,
   "id": "ed33d705",
   "metadata": {},
   "outputs": [],
   "source": [
    "# Replace with your own values\n",
    "tenant_id = 'MyTenantID'\n",
    "client_id = 'MyClientID'\n",
    "client_secret = 'MyClientSecret'\n",
    "user_id = 'UseTheObjectIDfromEntra'\n",
    "csv_file_path = 'C:/My/Folder/myfile.csv'  # Path to the CSV file"
   ]
  },
  {
   "cell_type": "code",
   "execution_count": 7,
   "id": "023ab434",
   "metadata": {},
   "outputs": [],
   "source": [
    "# Get access token\n",
    "token_url = f'https://login.microsoftonline.com/{tenantID}/oauth2/token'\n",
    "data = {\n",
    "    'grant_type': 'client_credentials',\n",
    "    'client_id': client_id,\n",
    "    'client_secret': client_secret,\n",
    "    'resource': 'https://graph.microsoft.com'\n",
    "}\n",
    "response = requests.post(token_url, data=data)\n",
    "access_token = response.json()['access_token']"
   ]
  },
  {
   "cell_type": "code",
   "execution_count": 8,
   "id": "b5fd951a",
   "metadata": {},
   "outputs": [],
   "source": [
    "# Function to recursively fetch direct reports\n",
    "def fetch_direct_reports(user_id):\n",
    "    api_url = f'https://graph.microsoft.com/v1.0/users/{user_id}/directReports'\n",
    "    headers = {\n",
    "        'Authorization': f'Bearer {access_token}',\n",
    "        'Content-Type': 'application/json'\n",
    "    }\n",
    "    response = requests.get(api_url, headers=headers)\n",
    "    direct_reports = response.json()\n",
    "\n",
    "    if 'value' in direct_reports:\n",
    "        for report in direct_reports['value']:\n",
    "            report_id = report['id']\n",
    "            report_api_url = f'https://graph.microsoft.com/v1.0/users/{report_id}'\n",
    "            response = requests.get(report_api_url, headers=headers)\n",
    "            report_data = response.json()\n",
    "            writer.writerow([report_data['displayName'], report_data['mail'], report_data['jobTitle']])\n",
    "            fetch_direct_reports(report_id)"
   ]
  },
  {
   "cell_type": "code",
   "execution_count": 9,
   "id": "6eb37b3c",
   "metadata": {},
   "outputs": [],
   "source": [
    "# Write direct reports data to CSV file\n",
    "with open(csv_file_path, 'w', newline='') as csv_file:\n",
    "    writer = csv.writer(csv_file)\n",
    "    writer.writerow(['Name', 'Email', 'Job Title'])  # Write header row\n",
    "    fetch_direct_reports(user_id)"
   ]
  },
  {
   "cell_type": "code",
   "execution_count": null,
   "id": "458c52bb",
   "metadata": {},
   "outputs": [],
   "source": [
    "print(f\"Org structure data exported to {csv_file_path}\")"
   ]
  },
  {
   "cell_type": "code",
   "execution_count": null,
   "id": "5f8e53ee",
   "metadata": {},
   "outputs": [],
   "source": []
  },
  {
   "cell_type": "code",
   "execution_count": null,
   "id": "94cefa57",
   "metadata": {},
   "outputs": [],
   "source": []
  }
 ],
 "metadata": {
  "kernelspec": {
   "display_name": "Python 3 (ipykernel)",
   "language": "python",
   "name": "python3"
  },
  "language_info": {
   "codemirror_mode": {
    "name": "ipython",
    "version": 3
   },
   "file_extension": ".py",
   "mimetype": "text/x-python",
   "name": "python",
   "nbconvert_exporter": "python",
   "pygments_lexer": "ipython3",
   "version": "3.9.13"
  }
 },
 "nbformat": 4,
 "nbformat_minor": 5
}
