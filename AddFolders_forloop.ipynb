{
 "cells": [
  {
   "cell_type": "code",
   "execution_count": null,
   "id": "9223c874-b1dc-45b9-af6f-ddbf273147a0",
   "metadata": {},
   "outputs": [],
   "source": [
    "import os"
   ]
  },
  {
   "cell_type": "code",
   "execution_count": null,
   "id": "7ffba0c0-17cf-41a0-9465-e5bd5902d671",
   "metadata": {},
   "outputs": [],
   "source": [
    "# Specify the directory where you want to create the folders\n",
    "parent_directory = \"/path/to/your/directory\""
   ]
  },
  {
   "cell_type": "code",
   "execution_count": null,
   "id": "d50132cb-8725-4d6c-b98a-ae325e174f07",
   "metadata": {},
   "outputs": [],
   "source": [
    "# Loop to create folders Week 1 to Week 8\n",
    "for i in range(1, 9):\n",
    "    folder_name = f\"Week {i}\"\n",
    "    folder_path = os.path.join(parent_directory, folder_name)\n",
    "    os.makedirs(folder_path, exist_ok=True)\n",
    "    print(f\"Created folder: {folder_path}\")"
   ]
  },
  {
   "cell_type": "code",
   "execution_count": null,
   "id": "439aa58e-9a11-4faa-93ca-bae3acf11f6a",
   "metadata": {},
   "outputs": [],
   "source": [
    "\n",
    "print(\"All folders created successfully.\")"
   ]
  },
  {
   "cell_type": "code",
   "execution_count": null,
   "id": "121bdb07-f387-4ea7-96e5-b4a307e105d6",
   "metadata": {},
   "outputs": [],
   "source": []
  },
  {
   "cell_type": "code",
   "execution_count": null,
   "id": "79e8e280-bebe-450f-8f60-fc51fe0be363",
   "metadata": {},
   "outputs": [],
   "source": []
  }
 ],
 "metadata": {
  "kernelspec": {
   "display_name": "Python 3 (ipykernel)",
   "language": "python",
   "name": "python3"
  },
  "language_info": {
   "codemirror_mode": {
    "name": "ipython",
    "version": 3
   },
   "file_extension": ".py",
   "mimetype": "text/x-python",
   "name": "python",
   "nbconvert_exporter": "python",
   "pygments_lexer": "ipython3",
   "version": "3.11.7"
  }
 },
 "nbformat": 4,
 "nbformat_minor": 5
}
